{
 "cells": [
  {
   "cell_type": "code",
   "execution_count": 1,
   "metadata": {},
   "outputs": [],
   "source": [
    "from slicSaliency import computeSLICsaliency\n",
    "import cv2\n",
    "from skimage.transform import resize\n",
    "from skimage.color import rgb2gray"
   ]
  },
  {
   "cell_type": "code",
   "execution_count": null,
   "metadata": {},
   "outputs": [],
   "source": [
    "datasets = [\"Cars\",\"dog\",\"sky\",\"cultivated land\",'cats']"
   ]
  },
  {
   "cell_type": "markdown",
   "metadata": {},
   "source": [
    "## flushing the folders before writing"
   ]
  },
  {
   "cell_type": "code",
   "execution_count": 12,
   "metadata": {},
   "outputs": [],
   "source": [
    "import shutil\n",
    "import os\n",
    "def flushFolder(method):\n",
    "    parent_dir = f\"./Saliency/\"\n",
    "    try:\n",
    "        shutil.rmtree(parent_dir+method)\n",
    "    except OSError as e:\n",
    "        print(\"Error: %s - %s.\" % (e.filename, e.strerror))\n",
    "    for i in datasets: \n",
    "        directory = f\"./{method}/saliency_{i}\" \n",
    "        path = os.path.join(parent_dir, directory)\n",
    "        isExist = os.path.exists(path)\n",
    "        if not isExist:\n",
    "            os.makedirs(path)"
   ]
  },
  {
   "cell_type": "code",
   "execution_count": 13,
   "metadata": {},
   "outputs": [],
   "source": [
    "method = 'SLIC'\n",
    "flushFolder(method)"
   ]
  },
  {
   "cell_type": "markdown",
   "metadata": {},
   "source": [
    "## Computing SLIC saliency"
   ]
  },
  {
   "cell_type": "code",
   "execution_count": 14,
   "metadata": {},
   "outputs": [],
   "source": [
    "def computeSlicForDataset(d):\n",
    "    method = 'SLIC'\n",
    "    folder = f\"./inputs/sample_{d}\"\n",
    "    files = os.listdir(folder)\n",
    "    files.sort()\n",
    "    i = 0\n",
    "    for filename in files:\n",
    "        img = cv2.imread(os.path.join(folder,filename))\n",
    "        img = resize(img,(128,128,img.shape[2]))\n",
    "        img =((img/img.max())*255).astype('uint8')\n",
    "        SAlMap = computeSLICsaliency(img,2048)\n",
    "        cv2.imwrite(f'./Saliency/{method}/saliency_{d}/{i}.jpg',SAlMap)\n",
    "        i+=1\n"
   ]
  },
  {
   "cell_type": "markdown",
   "metadata": {},
   "source": [
    "## computing and saving saliency maps"
   ]
  },
  {
   "cell_type": "code",
   "execution_count": 15,
   "metadata": {},
   "outputs": [],
   "source": [
    "for d in datasets:\n",
    "  computeSlicForDataset(d)"
   ]
  },
  {
   "cell_type": "markdown",
   "metadata": {},
   "source": [
    "## timing saliency computation"
   ]
  },
  {
   "cell_type": "code",
   "execution_count": 16,
   "metadata": {},
   "outputs": [],
   "source": [
    "import timeit\n",
    "SLIC_times = {}\n",
    "n =10\n",
    "for d in datasets:\n",
    "  t = timeit.timeit('computeSlicForDataset(d)',globals=globals(),number=n)\n",
    "  SLIC_times[d] = t/n\n"
   ]
  },
  {
   "cell_type": "code",
   "execution_count": 17,
   "metadata": {},
   "outputs": [
    {
     "data": {
      "text/plain": [
       "{'Cars': 6.617721425400001,\n",
       " 'dog': 6.4643552234,\n",
       " 'sky': 6.669326418699995,\n",
       " 'cultivated land': 18.0396161346,\n",
       " 'cats': 6.407218274000002}"
      ]
     },
     "execution_count": 17,
     "metadata": {},
     "output_type": "execute_result"
    }
   ],
   "source": [
    "SLIC_times"
   ]
  },
  {
   "cell_type": "markdown",
   "metadata": {},
   "source": [
    "## save times to a pickled file in /times folder"
   ]
  },
  {
   "cell_type": "code",
   "execution_count": 30,
   "metadata": {},
   "outputs": [],
   "source": [
    "import joblib"
   ]
  },
  {
   "cell_type": "code",
   "execution_count": 32,
   "metadata": {},
   "outputs": [
    {
     "data": {
      "text/plain": [
       "['times/SLIC_times.pkl']"
      ]
     },
     "execution_count": 32,
     "metadata": {},
     "output_type": "execute_result"
    }
   ],
   "source": [
    "joblib.dump(SLIC_times,'times/SLIC_times.pkl')"
   ]
  }
 ],
 "metadata": {
  "interpreter": {
   "hash": "6a65904b868753e9b96e07e72c98b8fbd80ee0772a8c8114e7ac8901d54cf768"
  },
  "kernelspec": {
   "display_name": "Python 3.7.11 ('pythonlower')",
   "language": "python",
   "name": "python3"
  },
  "language_info": {
   "codemirror_mode": {
    "name": "ipython",
    "version": 3
   },
   "file_extension": ".py",
   "mimetype": "text/x-python",
   "name": "python",
   "nbconvert_exporter": "python",
   "pygments_lexer": "ipython3",
   "version": "3.7.11"
  },
  "orig_nbformat": 4
 },
 "nbformat": 4,
 "nbformat_minor": 2
}
