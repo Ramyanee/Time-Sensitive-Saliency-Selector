{
  "cells": [
    {
      "cell_type": "code",
      "execution_count": 41,
      "metadata": {
        "id": "zsQPEnZSxln-"
      },
      "outputs": [],
      "source": [
        "from kmeanssaliency1 import kMean_saliency\n",
        "import cv2\n",
        "import numpy as np\n",
        "import timeit\n",
        "import matplotlib.pyplot as plt\n",
        "import joblib\n",
        "import shutil\n",
        "import os\n",
        "from slicSaliency import computeSLICsaliency\n",
        "import cv2\n",
        "from skimage.transform import resize\n",
        "from skimage.color import rgb2gray\n",
        "datasets = [\"Cars\",\"dog\",\"sky\",\"cultivated land\",'cats']"
      ]
    },
    {
      "cell_type": "code",
      "execution_count": 42,
      "metadata": {
        "id": "OsxZg9Ncx_Pa"
      },
      "outputs": [],
      "source": [
        "\n",
        "def flushFolder(method,d):\n",
        "    parent_dir = f\"./Saliency/\"\n",
        "    directory = f\"./{method}/saliency_{d}\" \n",
        "    path = os.path.join(parent_dir, directory)\n",
        "    try:\n",
        "        shutil.rmtree(path)\n",
        "    except OSError as e:\n",
        "        print(\"Warning: %s - %s.\" % (e.filename, e.strerror)+\"  rmtree not required!\")\n",
        "    isExist = os.path.exists(path)\n",
        "    if not isExist:\n",
        "        os.makedirs(path)"
      ]
    },
    {
      "cell_type": "code",
      "execution_count": 56,
      "metadata": {
        "id": "tfM-jE7ZyhMW"
      },
      "outputs": [],
      "source": [
        "def computeKMeansForDataset(d):\n",
        "    method='KMeans'\n",
        "    flushFolder(method,d)\n",
        "    folder=f\"./inputs/sample_{d}\"\n",
        "    files = os.listdir(folder)\n",
        "    files.sort()\n",
        "    i = 0\n",
        "    for filename in files:\n",
        "        img = cv2.imread(os.path.join(folder,filename))\n",
        "        img = resize(img,(128,128,img.shape[2]))\n",
        "        img =((img/img.max())*255).astype('uint8')\n",
        "        SAlMap=kMean_saliency(img,85)\n",
        "        cv2.imwrite(f'./Saliency/{method}/saliency_{d}/{i}.jpg',SAlMap)\n",
        "        i+=1\n"
      ]
    },
    {
      "cell_type": "code",
      "execution_count": 57,
      "metadata": {
        "id": "OjdW4jyO7suh"
      },
      "outputs": [],
      "source": [
        "def KmeansTimes():\n",
        "  KMeans_times = {}\n",
        "  n =1\n",
        "  for d in datasets:\n",
        "    t = timeit.timeit('computeKMeansForDataset(d)',globals=globals(),number=n)\n",
        "    KMeans_times[d] = t/n\n",
        "  joblib.dump(KMeans_times,'KMeans_times.pkl')"
      ]
    },
    {
      "cell_type": "code",
      "execution_count": 58,
      "metadata": {},
      "outputs": [
        {
          "ename": "KeyboardInterrupt",
          "evalue": "",
          "output_type": "error",
          "traceback": [
            "\u001b[0;31m---------------------------------------------------------------------------\u001b[0m",
            "\u001b[0;31mKeyboardInterrupt\u001b[0m                         Traceback (most recent call last)",
            "\u001b[0;32m/var/folders/vv/15nxpsbx31qfpl5kyfc8dfs80000gn/T/ipykernel_27463/5911470.py\u001b[0m in \u001b[0;36m<module>\u001b[0;34m\u001b[0m\n\u001b[1;32m      1\u001b[0m \u001b[0;32mfor\u001b[0m \u001b[0md\u001b[0m \u001b[0;32min\u001b[0m \u001b[0mdatasets\u001b[0m\u001b[0;34m:\u001b[0m\u001b[0;34m\u001b[0m\u001b[0;34m\u001b[0m\u001b[0m\n\u001b[0;32m----> 2\u001b[0;31m   \u001b[0mcomputeKMeansForDataset\u001b[0m\u001b[0;34m(\u001b[0m\u001b[0md\u001b[0m\u001b[0;34m)\u001b[0m\u001b[0;34m\u001b[0m\u001b[0;34m\u001b[0m\u001b[0m\n\u001b[0m\u001b[1;32m      3\u001b[0m \u001b[0mKmeansTimes\u001b[0m\u001b[0;34m(\u001b[0m\u001b[0;34m)\u001b[0m\u001b[0;34m\u001b[0m\u001b[0;34m\u001b[0m\u001b[0m\n",
            "\u001b[0;32m/var/folders/vv/15nxpsbx31qfpl5kyfc8dfs80000gn/T/ipykernel_27463/2234017276.py\u001b[0m in \u001b[0;36mcomputeKMeansForDataset\u001b[0;34m(d)\u001b[0m\n\u001b[1;32m     10\u001b[0m         \u001b[0mimg\u001b[0m \u001b[0;34m=\u001b[0m \u001b[0mresize\u001b[0m\u001b[0;34m(\u001b[0m\u001b[0mimg\u001b[0m\u001b[0;34m,\u001b[0m\u001b[0;34m(\u001b[0m\u001b[0;36m128\u001b[0m\u001b[0;34m,\u001b[0m\u001b[0;36m128\u001b[0m\u001b[0;34m,\u001b[0m\u001b[0mimg\u001b[0m\u001b[0;34m.\u001b[0m\u001b[0mshape\u001b[0m\u001b[0;34m[\u001b[0m\u001b[0;36m2\u001b[0m\u001b[0;34m]\u001b[0m\u001b[0;34m)\u001b[0m\u001b[0;34m)\u001b[0m\u001b[0;34m\u001b[0m\u001b[0;34m\u001b[0m\u001b[0m\n\u001b[1;32m     11\u001b[0m         \u001b[0mimg\u001b[0m \u001b[0;34m=\u001b[0m\u001b[0;34m(\u001b[0m\u001b[0;34m(\u001b[0m\u001b[0mimg\u001b[0m\u001b[0;34m/\u001b[0m\u001b[0mimg\u001b[0m\u001b[0;34m.\u001b[0m\u001b[0mmax\u001b[0m\u001b[0;34m(\u001b[0m\u001b[0;34m)\u001b[0m\u001b[0;34m)\u001b[0m\u001b[0;34m*\u001b[0m\u001b[0;36m255\u001b[0m\u001b[0;34m)\u001b[0m\u001b[0;34m.\u001b[0m\u001b[0mastype\u001b[0m\u001b[0;34m(\u001b[0m\u001b[0;34m'uint8'\u001b[0m\u001b[0;34m)\u001b[0m\u001b[0;34m\u001b[0m\u001b[0;34m\u001b[0m\u001b[0m\n\u001b[0;32m---> 12\u001b[0;31m         \u001b[0mSAlMap\u001b[0m\u001b[0;34m=\u001b[0m\u001b[0mkMean_saliency\u001b[0m\u001b[0;34m(\u001b[0m\u001b[0mimg\u001b[0m\u001b[0;34m,\u001b[0m\u001b[0;36m85\u001b[0m\u001b[0;34m)\u001b[0m\u001b[0;34m\u001b[0m\u001b[0;34m\u001b[0m\u001b[0m\n\u001b[0m\u001b[1;32m     13\u001b[0m         \u001b[0mcv2\u001b[0m\u001b[0;34m.\u001b[0m\u001b[0mimwrite\u001b[0m\u001b[0;34m(\u001b[0m\u001b[0;34mf'./Saliency/{method}/saliency_{d}/{i}.jpg'\u001b[0m\u001b[0;34m,\u001b[0m\u001b[0mSAlMap\u001b[0m\u001b[0;34m)\u001b[0m\u001b[0;34m\u001b[0m\u001b[0;34m\u001b[0m\u001b[0m\n\u001b[1;32m     14\u001b[0m         \u001b[0mi\u001b[0m\u001b[0;34m+=\u001b[0m\u001b[0;36m1\u001b[0m\u001b[0;34m\u001b[0m\u001b[0;34m\u001b[0m\u001b[0m\n",
            "\u001b[0;32m~/COMPUTER VISION/ASSIGNMENTS/CV Project/kmeanssaliency1.py\u001b[0m in \u001b[0;36mkMean_saliency\u001b[0;34m(img, K)\u001b[0m\n\u001b[1;32m     59\u001b[0m             \u001b[0;31m# K distinct pixel colours\u001b[0m\u001b[0;34m\u001b[0m\u001b[0;34m\u001b[0m\u001b[0;34m\u001b[0m\u001b[0m\n\u001b[1;32m     60\u001b[0m             \u001b[0;32mfor\u001b[0m \u001b[0mk\u001b[0m \u001b[0;32min\u001b[0m \u001b[0mrange\u001b[0m\u001b[0;34m(\u001b[0m\u001b[0;36m0\u001b[0m\u001b[0;34m,\u001b[0m\u001b[0mK\u001b[0m\u001b[0;34m)\u001b[0m\u001b[0;34m:\u001b[0m\u001b[0;34m\u001b[0m\u001b[0;34m\u001b[0m\u001b[0m\n\u001b[0;32m---> 61\u001b[0;31m                 \u001b[0mD\u001b[0m \u001b[0;34m=\u001b[0m \u001b[0mnp\u001b[0m\u001b[0;34m.\u001b[0m\u001b[0mabs\u001b[0m\u001b[0;34m(\u001b[0m\u001b[0mIk\u001b[0m \u001b[0;34m-\u001b[0m \u001b[0mk\u001b[0m\u001b[0;34m)\u001b[0m\u001b[0;34m\u001b[0m\u001b[0;34m\u001b[0m\u001b[0m\n\u001b[0m\u001b[1;32m     62\u001b[0m                 \u001b[0mS_Ik\u001b[0m \u001b[0;34m=\u001b[0m \u001b[0mS_Ik\u001b[0m \u001b[0;34m+\u001b[0m \u001b[0mprob2\u001b[0m\u001b[0;34m[\u001b[0m\u001b[0mk\u001b[0m\u001b[0;34m]\u001b[0m \u001b[0;34m*\u001b[0m \u001b[0mD\u001b[0m\u001b[0;34m\u001b[0m\u001b[0;34m\u001b[0m\u001b[0m\n\u001b[1;32m     63\u001b[0m             \u001b[0mSal2\u001b[0m\u001b[0;34m[\u001b[0m\u001b[0mi\u001b[0m\u001b[0;34m,\u001b[0m\u001b[0mj\u001b[0m\u001b[0;34m]\u001b[0m \u001b[0;34m=\u001b[0m \u001b[0mS_Ik\u001b[0m\u001b[0;34m\u001b[0m\u001b[0;34m\u001b[0m\u001b[0m\n",
            "\u001b[0;31mKeyboardInterrupt\u001b[0m: "
          ]
        }
      ],
      "source": [
        "for d in datasets:\n",
        "  computeKMeansForDataset(d)\n",
        "KmeansTimes()"
      ]
    },
    {
      "cell_type": "code",
      "execution_count": 45,
      "metadata": {
        "id": "FNR_VuXR1bmr"
      },
      "outputs": [],
      "source": [
        "def fineGrained(d):\n",
        "    method='FineGrained'\n",
        "    flushFolder(method,d)\n",
        "    folder=f\"./inputs/sample_{d}\"\n",
        "    files = os.listdir(folder)\n",
        "    files.sort()\n",
        "    i = 0\n",
        "    for filename in files:\n",
        "      img = cv2.imread(os.path.join(folder,filename))\n",
        "      img = cv2.cvtColor(img, cv2.COLOR_BGR2RGB)\n",
        "      img = resize(img,(128,128,img.shape[2]))\n",
        "      img =((img/img.max())*255).astype('uint8')\n",
        "      # initialize OpenCV's static fine grained saliency detector and computing the saliency map\n",
        "      saliency = cv2.saliency.StaticSaliencyFineGrained_create()\n",
        "      (success, saliencyMap) = saliency.computeSaliency(img)\n",
        "      # plt.imshow(saliencyMap,cmap='gray')\n",
        "      # plt.show()\n",
        "      cv2.imwrite(f'./Saliency/{method}/saliency_{d}/{i}.jpg',saliencyMap)\n",
        "      i+=1\n",
        "def fineGrainedTimes():\n",
        "  FineGrained_times = {}\n",
        "  n =10\n",
        "  for d in datasets:\n",
        "    t = timeit.timeit('fineGrained(d)',globals=globals(),number=n)\n",
        "    FineGrained_times[d] = t/n\n",
        "  joblib.dump(FineGrained_times,'times/FineGrained_times.pkl')"
      ]
    },
    {
      "cell_type": "code",
      "execution_count": 46,
      "metadata": {
        "id": "09TTXteq3c-G"
      },
      "outputs": [],
      "source": [
        "for d in datasets:\n",
        "  fineGrained(d)\n",
        "fineGrainedTimes()"
      ]
    },
    {
      "cell_type": "code",
      "execution_count": 50,
      "metadata": {
        "id": "HI-GSZ6d4bqb"
      },
      "outputs": [],
      "source": [
        "def spectralSaliency(d):\n",
        "    method='Spectral'\n",
        "    flushFolder(method,d)\n",
        "    folder=f\"./inputs/sample_{d}\"\n",
        "    files = os.listdir(folder)\n",
        "    files.sort()\n",
        "    i = 0\n",
        "    for filename in files:\n",
        "      img = cv2.imread(os.path.join(folder,filename))\n",
        "      img = resize(img,(128,128,img.shape[2]))\n",
        "      img =((img/img.max())*255).astype('uint8')\n",
        "      # initialize OpenCV's static saliency spectral residual detector and computing the saliency map\n",
        "      saliency = cv2.saliency.StaticSaliencySpectralResidual_create()\n",
        "      (success, saliencyMap) = saliency.computeSaliency(img)\n",
        "      saliencyMap = (saliencyMap * 255).astype(\"uint8\")\n",
        "      cv2.imwrite(f'./Saliency/{method}/saliency_{d}/{i}.jpg',saliencyMap)\n",
        "      i+=1"
      ]
    },
    {
      "cell_type": "code",
      "execution_count": 51,
      "metadata": {
        "id": "3m-tSFLg5kDy"
      },
      "outputs": [],
      "source": [
        "def SpectralTimes():\n",
        "  Spectral_times = {}\n",
        "  n =10\n",
        "  for d in datasets:\n",
        "    t = timeit.timeit('spectralSaliency(d)',globals=globals(),number=n)\n",
        "    Spectral_times[d] = t/n\n",
        "  joblib.dump(Spectral_times,'times/Spectral_times.pkl')"
      ]
    },
    {
      "cell_type": "code",
      "execution_count": 52,
      "metadata": {},
      "outputs": [],
      "source": [
        "for d in datasets:\n",
        "  spectralSaliency(d)\n",
        "SpectralTimes()"
      ]
    },
    {
      "cell_type": "code",
      "execution_count": 53,
      "metadata": {},
      "outputs": [],
      "source": [
        "def computeSlicForDataset(d):\n",
        "    method = 'SLIC'\n",
        "    flushFolder(method,d)\n",
        "    folder = f\"./inputs/sample_{d}\"\n",
        "    files = os.listdir(folder)\n",
        "    files.sort()\n",
        "    i = 0\n",
        "    for filename in files:\n",
        "        img = cv2.imread(os.path.join(folder,filename))\n",
        "        img = resize(img,(128,128,img.shape[2]))\n",
        "        img =((img/img.max())*255).astype('uint8')\n",
        "        SAlMap = computeSLICsaliency(img,2048)\n",
        "        cv2.imwrite(f'./Saliency/{method}/saliency_{d}/{i}.jpg',SAlMap)\n",
        "        i+=1\n",
        "def SlicTimes():\n",
        "    SLIC_times = {}\n",
        "    n =10\n",
        "    for d in datasets:\n",
        "        t = timeit.timeit('computeSlicForDataset(d)',globals=globals(),number=n)\n",
        "        SLIC_times[d] = t/n\n",
        "    joblib.dump(SLIC_times,'times/SLIC_times.pkl')"
      ]
    },
    {
      "cell_type": "code",
      "execution_count": 54,
      "metadata": {},
      "outputs": [],
      "source": [
        "for d in datasets:\n",
        "  computeSlicForDataset(d)\n",
        "SlicTimes()"
      ]
    },
    {
      "cell_type": "code",
      "execution_count": 55,
      "metadata": {},
      "outputs": [],
      "source": [
        "def PoolNetTimes():\n",
        "    PoolNet_times = {\n",
        "        'Cars': 2.38,\n",
        "        'dog':2.01,\n",
        "        'sky':2.21,\n",
        "        'cultivated land': 13.9,\n",
        "        'cats':1.8\n",
        "    }\n",
        "    joblib.dump(PoolNet_times,'times/PoolNet_times.pkl')"
      ]
    },
    {
      "cell_type": "code",
      "execution_count": null,
      "metadata": {},
      "outputs": [],
      "source": []
    }
  ],
  "metadata": {
    "colab": {
      "collapsed_sections": [],
      "name": "NonDLSaliency.ipynb",
      "provenance": []
    },
    "kernelspec": {
      "display_name": "Python 3",
      "name": "python3"
    },
    "language_info": {
      "codemirror_mode": {
        "name": "ipython",
        "version": 3
      },
      "file_extension": ".py",
      "mimetype": "text/x-python",
      "name": "python",
      "nbconvert_exporter": "python",
      "pygments_lexer": "ipython3",
      "version": "3.7.11"
    }
  },
  "nbformat": 4,
  "nbformat_minor": 0
}
