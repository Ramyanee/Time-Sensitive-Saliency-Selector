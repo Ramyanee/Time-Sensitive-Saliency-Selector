{
 "cells": [
  {
   "cell_type": "markdown",
   "metadata": {},
   "source": [
    "# Discounted Saliency Selector"
   ]
  },
  {
   "cell_type": "code",
   "execution_count": 1,
   "metadata": {},
   "outputs": [],
   "source": [
    "from skimage.transform import resize\n",
    "from skimage.filters import threshold_otsu\n",
    "import numpy as np\n",
    "import cv2\n",
    "import pandas as pd\n",
    "import matplotlib.pyplot as plt\n",
    "import joblib\n",
    "from PIL import Image\n",
    "import itertools\n",
    "import os\n",
    "from skimage.color import rgb2gray\n",
    "from sklearn.preprocessing import StandardScaler\n",
    "from math import erf, sqrt\n",
    "import scipy\n",
    "def load_images_from_folder(folder,RGB=True,size = 128):\n",
    "    images = []\n",
    "    files = os.listdir(folder)\n",
    "    files.sort()\n",
    "    for filename in files:\n",
    "        img = cv2.imread(os.path.join(folder,filename))\n",
    "        if img is not None:\n",
    "            if RGB:\n",
    "                img = resize(img,(size,size,3))\n",
    "            else:\n",
    "                img = rgb2gray(img)\n",
    "                img = resize(img,(size,size))\n",
    "            img =((img/img.max())*255).astype('uint8')\n",
    "            images.append(img)\n",
    "    return np.array(images)"
   ]
  },
  {
   "cell_type": "code",
   "execution_count": 2,
   "metadata": {},
   "outputs": [],
   "source": [
    "from SaliencyComputations import *"
   ]
  },
  {
   "cell_type": "code",
   "execution_count": 3,
   "metadata": {},
   "outputs": [],
   "source": [
    "datasets = [\"Cars\",\"dog\",\"sky\",\"cultivated land\",'cats']\n",
    "methods = ['SLIC','Spectral','PoolNet','KMeans','FineGrained']"
   ]
  },
  {
   "cell_type": "code",
   "execution_count": 4,
   "metadata": {},
   "outputs": [],
   "source": [
    "ip = input(f\"\"\"Which dataset you want to chose:\n",
    "1. {datasets[0]}\n",
    "2. {datasets[1]}\n",
    "3. {datasets[2]}\n",
    "4. {datasets[3]}\n",
    "5. {datasets[4]}\"\"\")"
   ]
  },
  {
   "cell_type": "code",
   "execution_count": 5,
   "metadata": {},
   "outputs": [
    {
     "name": "stdout",
     "output_type": "stream",
     "text": [
      "Dataset Selected: Cars\n"
     ]
    }
   ],
   "source": [
    "d = datasets[int(ip)-1]\n",
    "print(f'Dataset Selected: {d}')"
   ]
  },
  {
   "cell_type": "code",
   "execution_count": 6,
   "metadata": {},
   "outputs": [],
   "source": [
    "# computeSlicForDataset(d)\n",
    "# computeKMeansForDataset(d)\n",
    "# spectralSaliency(d)\n",
    "# fineGrained(d)"
   ]
  },
  {
   "cell_type": "code",
   "execution_count": 7,
   "metadata": {},
   "outputs": [],
   "source": [
    "# def Time(d):\n",
    "#     time = {}\n",
    "#     n = 5\n",
    "#     t = timeit.timeit('computeSlicForDataset(d)',globals=globals(),number=n)\n",
    "#     time['SLIC'] = t/n\n",
    "#     t = timeit.timeit('spectralSaliency(d)',globals=globals(),number=n)\n",
    "#     time['Spectral'] = t/n\n",
    "#     poolnetTime = joblib.load('times/PoolNet_times.pkl')\n",
    "#     time['PoolNet'] = poolnetTime[d]\n",
    "#     t = timeit.timeit('computeKMeansForDataset(d)',globals=globals(),number=1)\n",
    "#     time['KMeans'] = t/1\n",
    "#     t = timeit.timeit('fineGrained(d)',globals=globals(),number=n)\n",
    "#     time['FineGrained'] = t/n\n",
    "#     return time\n",
    "# time = Time(d)\n",
    "# joblib.dump(time,f'times/t_{d}.pkl')  \n",
    "time = joblib.load(f'times/t_{d}.pkl')"
   ]
  },
  {
   "cell_type": "code",
   "execution_count": 8,
   "metadata": {},
   "outputs": [],
   "source": [
    "def GetSalMaps(d):\n",
    "    methods = ['SLIC','Spectral','PoolNet','KMeans','FineGrained']\n",
    "    SaliencyMaps = {}\n",
    "    for method in methods:\n",
    "        folder = f\"./Saliency/{method}/saliency_{d}\"\n",
    "        files = os.listdir(folder)\n",
    "        files.sort()\n",
    "        SaliencyMaps[method] = load_images_from_folder(folder,RGB=False)\n",
    "    return SaliencyMaps\n",
    "SaliencyMaps = GetSalMaps(d)\n"
   ]
  },
  {
   "cell_type": "code",
   "execution_count": 9,
   "metadata": {},
   "outputs": [],
   "source": [
    "def getDistro(bins,hist):\n",
    "    D = []\n",
    "    for i in range(len(hist)):\n",
    "        D.extend([bins[i]]*hist[i])\n",
    "    return np.array(D)\n",
    "def normalise(Distr):\n",
    "    return (Distr - Distr.min())/(Distr.max()-Distr.min())\n",
    "def normal_dist(x , mean , sd):\n",
    "    prob_density = (np.pi*sd) * np.exp(-0.5*((x-mean)/sd)**2)\n",
    "    return prob_density   "
   ]
  },
  {
   "cell_type": "markdown",
   "metadata": {},
   "source": [
    "http://modelai.gettysburg.edu/2020/wgan/Resources/Lesson1/kl-divergence-gaussians.htm"
   ]
  },
  {
   "cell_type": "code",
   "execution_count": 10,
   "metadata": {},
   "outputs": [],
   "source": [
    "import scipy"
   ]
  },
  {
   "cell_type": "code",
   "execution_count": 11,
   "metadata": {},
   "outputs": [],
   "source": [
    "# m = SaliencyMaps['SLIC'][0]\n",
    "def VisualiseSeparation(mask):\n",
    "    m = mask\n",
    "    t = (threshold_otsu(m))\n",
    "    hist,bins = np.histogram(m.ravel(),256)\n",
    "    D_bg = getDistro(bins[:t],hist[:t])\n",
    "    D_fg = getDistro(bins[t:256],hist[t:])\n",
    "    bg_mean = D_bg.mean()\n",
    "    fg_mean = D_fg.mean()    \n",
    "    bg_sd = np.std(D_bg)\n",
    "    fg_sd = np.std(D_fg)\n",
    "    X = np.arange(0,255)\n",
    "    bg_pdf = scipy.stats.norm.pdf(X,bg_mean,bg_sd)\n",
    "    fg_pdf = scipy.stats.norm.pdf(X,fg_mean,fg_sd)\n",
    "    plt.figure(figsize=(10,6))\n",
    "    plt.title('Normal Distribution of Background and Foreground')\n",
    "    plt.plot(X,bg_pdf,label='background')\n",
    "    plt.plot(X,fg_pdf,label='foreground')\n",
    "    plt.legend()\n",
    "    plt.show()"
   ]
  },
  {
   "cell_type": "code",
   "execution_count": 12,
   "metadata": {},
   "outputs": [],
   "source": [
    "SAL_MAP = SaliencyMaps['KMeans'][0]"
   ]
  },
  {
   "cell_type": "code",
   "execution_count": 13,
   "metadata": {},
   "outputs": [
    {
     "data": {
      "image/png": "[encoded data removed]",
      "text/plain": [
       "<Figure size 432x288 with 1 Axes>"
      ]
     },
     "metadata": {
      "needs_background": "light"
     },
     "output_type": "display_data"
    }
   ],
   "source": [
    "plt.imshow(SAL_MAP,cmap='gray')\n",
    "plt.show()"
   ]
  },
  {
   "cell_type": "code",
   "execution_count": 14,
   "metadata": {},
   "outputs": [
    {
     "data": {
      "image/png": "[encoded data removed]",
      "text/plain": [
       "<Figure size 720x432 with 1 Axes>"
      ]
     },
     "metadata": {
      "needs_background": "light"
     },
     "output_type": "display_data"
    }
   ],
   "source": [
    "VisualiseSeparation(SaliencyMaps['KMeans'][0])"
   ]
  },
  {
   "cell_type": "markdown",
   "metadata": {},
   "source": [
    "## Separation Analysis \n",
    "Separation analysis between the foreground distribution and background distribution of the saliency map  \n",
    "using **Kullback–Leibler divergence** between the background pixel distribution and foreground distribution"
   ]
  },
  {
   "cell_type": "code",
   "execution_count": 15,
   "metadata": {},
   "outputs": [],
   "source": [
    "def kld(masks):\n",
    "    # \"\"\"returns mean and standard deviation of background and foreground\"\"\"  \n",
    "    KLD = []\n",
    "    for m in masks:\n",
    "\n",
    "        t = (threshold_otsu(m))\n",
    "        hist,bins = np.histogram(m.ravel(),256)\n",
    "        \n",
    "        N_bg, N_fg = hist[:t].sum(),hist[t:].sum()\n",
    "\n",
    "        pixels = hist*bins[:256]\n",
    "\n",
    "        D_bg = (getDistro(bins[:t],hist[:t]))\n",
    "        D_fg = (getDistro(bins[t:256],hist[t:]))\n",
    "\n",
    "                \n",
    "        bg_mean = D_bg.mean()\n",
    "        fg_mean = D_fg.mean()\n",
    "                \n",
    "        bg_sd = np.std(D_bg)\n",
    "        fg_sd = np.std(D_fg)\n",
    "\n",
    "        t1 = np.log10(bg_sd/fg_sd)\n",
    "        t2 = (fg_sd**2 + (fg_mean-bg_mean)**2)/(2*bg_sd**2)\n",
    "        KLD.append(abs(t1 + t2 - 0.5))\n",
    "\n",
    "\n",
    "    return np.array(KLD)"
   ]
  },
  {
   "cell_type": "code",
   "execution_count": 16,
   "metadata": {},
   "outputs": [],
   "source": [
    "KLDs = {}\n",
    "for i in SaliencyMaps:\n",
    "    KLDs[i] = kld(SaliencyMaps[i])"
   ]
  },
  {
   "cell_type": "code",
   "execution_count": 17,
   "metadata": {},
   "outputs": [
    {
     "data": {
      "text/html": [
       "<div>\n",
       "<style scoped>\n",
       "    .dataframe tbody tr th:only-of-type {\n",
       "        vertical-align: middle;\n",
       "    }\n",
       "\n",
       "    .dataframe tbody tr th {\n",
       "        vertical-align: top;\n",
       "    }\n",
       "\n",
       "    .dataframe thead th {\n",
       "        text-align: right;\n",
       "    }\n",
       "</style>\n",
       "<table border=\"1\" class=\"dataframe\">\n",
       "  <thead>\n",
       "    <tr style=\"text-align: right;\">\n",
       "      <th></th>\n",
       "      <th>SLIC</th>\n",
       "      <th>Spectral</th>\n",
       "      <th>PoolNet</th>\n",
       "      <th>KMeans</th>\n",
       "      <th>FineGrained</th>\n",
       "    </tr>\n",
       "  </thead>\n",
       "  <tbody>\n",
       "    <tr>\n",
       "      <th>0</th>\n",
       "      <td>6.522307</td>\n",
       "      <td>10.230767</td>\n",
       "      <td>320.790022</td>\n",
       "      <td>10.234650</td>\n",
       "      <td>8.733704</td>\n",
       "    </tr>\n",
       "    <tr>\n",
       "      <th>1</th>\n",
       "      <td>3.322864</td>\n",
       "      <td>11.103354</td>\n",
       "      <td>255.986620</td>\n",
       "      <td>10.885503</td>\n",
       "      <td>9.218537</td>\n",
       "    </tr>\n",
       "    <tr>\n",
       "      <th>2</th>\n",
       "      <td>8.191280</td>\n",
       "      <td>19.612068</td>\n",
       "      <td>26.155099</td>\n",
       "      <td>7.795316</td>\n",
       "      <td>11.971893</td>\n",
       "    </tr>\n",
       "    <tr>\n",
       "      <th>3</th>\n",
       "      <td>6.518371</td>\n",
       "      <td>25.333517</td>\n",
       "      <td>285.214259</td>\n",
       "      <td>5.426111</td>\n",
       "      <td>10.184932</td>\n",
       "    </tr>\n",
       "    <tr>\n",
       "      <th>4</th>\n",
       "      <td>4.274886</td>\n",
       "      <td>12.630891</td>\n",
       "      <td>49.073156</td>\n",
       "      <td>24.410881</td>\n",
       "      <td>5.025216</td>\n",
       "    </tr>\n",
       "  </tbody>\n",
       "</table>\n",
       "</div>"
      ],
      "text/plain": [
       "       SLIC   Spectral     PoolNet     KMeans  FineGrained\n",
       "0  6.522307  10.230767  320.790022  10.234650     8.733704\n",
       "1  3.322864  11.103354  255.986620  10.885503     9.218537\n",
       "2  8.191280  19.612068   26.155099   7.795316    11.971893\n",
       "3  6.518371  25.333517  285.214259   5.426111    10.184932\n",
       "4  4.274886  12.630891   49.073156  24.410881     5.025216"
      ]
     },
     "execution_count": 17,
     "metadata": {},
     "output_type": "execute_result"
    }
   ],
   "source": [
    "pd.DataFrame.from_dict(KLDs)"
   ]
  },
  {
   "cell_type": "markdown",
   "metadata": {},
   "source": [
    "## connected component analysis - Concentration measure\n",
    "opencv's connectedComponentsWithStats() function is being used with 4 as connected component  \n",
    "parameter to obtain the salient foreground objects and their area.  \n",
    "This area of each blob is then used to compute the concentration measure of the Saliency maps  \n"
   ]
  },
  {
   "cell_type": "code",
   "execution_count": 18,
   "metadata": {},
   "outputs": [],
   "source": [
    "def getConcentration(maps):\n",
    "    C = []\n",
    "    for d in maps:\n",
    "        binary = (d>threshold_otsu(d)).astype('uint8')\n",
    "        (numLabels, labels, stats, centroids) = cv2.connectedComponentsWithStats(binary,4,cv2.CV_32S)\n",
    "        areas = np.zeros(numLabels)\n",
    "        for i in range(0, numLabels):\n",
    "            areas[i]=stats[i, cv2.CC_STAT_AREA]\n",
    "        Cu = areas/np.sum(areas)\n",
    "        u = np.argmax(Cu)\n",
    "        concentration = Cu[u] + ((1-Cu[u])/numLabels)\n",
    "        C.append(concentration)\n",
    "    return np.array(C)"
   ]
  },
  {
   "cell_type": "markdown",
   "metadata": {},
   "source": [
    "Concetration measure and Separation measure are multiplied to get the final saliency score for each saliency map.  "
   ]
  },
  {
   "cell_type": "code",
   "execution_count": 19,
   "metadata": {},
   "outputs": [
    {
     "data": {
      "text/html": [
       "<div>\n",
       "<style scoped>\n",
       "    .dataframe tbody tr th:only-of-type {\n",
       "        vertical-align: middle;\n",
       "    }\n",
       "\n",
       "    .dataframe tbody tr th {\n",
       "        vertical-align: top;\n",
       "    }\n",
       "\n",
       "    .dataframe thead th {\n",
       "        text-align: right;\n",
       "    }\n",
       "</style>\n",
       "<table border=\"1\" class=\"dataframe\">\n",
       "  <thead>\n",
       "    <tr style=\"text-align: right;\">\n",
       "      <th></th>\n",
       "      <th>SLIC</th>\n",
       "      <th>Spectral</th>\n",
       "      <th>PoolNet</th>\n",
       "      <th>KMeans</th>\n",
       "      <th>FineGrained</th>\n",
       "    </tr>\n",
       "  </thead>\n",
       "  <tbody>\n",
       "    <tr>\n",
       "      <th>0</th>\n",
       "      <td>0.739403</td>\n",
       "      <td>0.760763</td>\n",
       "      <td>0.829926</td>\n",
       "      <td>0.538495</td>\n",
       "      <td>0.667754</td>\n",
       "    </tr>\n",
       "    <tr>\n",
       "      <th>1</th>\n",
       "      <td>0.600731</td>\n",
       "      <td>0.755822</td>\n",
       "      <td>0.818237</td>\n",
       "      <td>0.524425</td>\n",
       "      <td>0.607164</td>\n",
       "    </tr>\n",
       "    <tr>\n",
       "      <th>2</th>\n",
       "      <td>0.763617</td>\n",
       "      <td>0.906882</td>\n",
       "      <td>0.678375</td>\n",
       "      <td>0.625017</td>\n",
       "      <td>0.809369</td>\n",
       "    </tr>\n",
       "    <tr>\n",
       "      <th>3</th>\n",
       "      <td>0.724417</td>\n",
       "      <td>0.915131</td>\n",
       "      <td>0.739441</td>\n",
       "      <td>0.647734</td>\n",
       "      <td>0.663835</td>\n",
       "    </tr>\n",
       "    <tr>\n",
       "      <th>4</th>\n",
       "      <td>0.517627</td>\n",
       "      <td>0.783180</td>\n",
       "      <td>0.830017</td>\n",
       "      <td>0.608832</td>\n",
       "      <td>0.518348</td>\n",
       "    </tr>\n",
       "  </tbody>\n",
       "</table>\n",
       "</div>"
      ],
      "text/plain": [
       "       SLIC  Spectral   PoolNet    KMeans  FineGrained\n",
       "0  0.739403  0.760763  0.829926  0.538495     0.667754\n",
       "1  0.600731  0.755822  0.818237  0.524425     0.607164\n",
       "2  0.763617  0.906882  0.678375  0.625017     0.809369\n",
       "3  0.724417  0.915131  0.739441  0.647734     0.663835\n",
       "4  0.517627  0.783180  0.830017  0.608832     0.518348"
      ]
     },
     "execution_count": 19,
     "metadata": {},
     "output_type": "execute_result"
    }
   ],
   "source": [
    "CMs = {}\n",
    "for i in SaliencyMaps:\n",
    "    CMs[i] = getConcentration(SaliencyMaps[i])\n",
    "pd.DataFrame.from_dict(CMs)"
   ]
  },
  {
   "cell_type": "code",
   "execution_count": 20,
   "metadata": {},
   "outputs": [],
   "source": [
    "Quality_Score = {}\n",
    "for method in methods:\n",
    "    Quality_Score[method] = np.sum(np.log10(KLDs[method])*CMs[method])/5"
   ]
  },
  {
   "cell_type": "code",
   "execution_count": 21,
   "metadata": {},
   "outputs": [
    {
     "data": {
      "text/plain": [
       "{'PoolNet': 1.6461977043406797,\n",
       " 'Spectral': 0.9755658860995446,\n",
       " 'FineGrained': 0.6238775849766218,\n",
       " 'KMeans': 0.5931276925432089,\n",
       " 'SLIC': 0.5058538830657897}"
      ]
     },
     "execution_count": 21,
     "metadata": {},
     "output_type": "execute_result"
    }
   ],
   "source": [
    "Sorted_Quality_Score = { i[0]:i[1] for i in sorted(Quality_Score.items(),key=lambda x:x[1],reverse=True)}\n",
    "Sorted_Quality_Score"
   ]
  },
  {
   "cell_type": "code",
   "execution_count": 22,
   "metadata": {},
   "outputs": [
    {
     "data": {
      "text/html": [
       "<div>\n",
       "<style scoped>\n",
       "    .dataframe tbody tr th:only-of-type {\n",
       "        vertical-align: middle;\n",
       "    }\n",
       "\n",
       "    .dataframe tbody tr th {\n",
       "        vertical-align: top;\n",
       "    }\n",
       "\n",
       "    .dataframe thead th {\n",
       "        text-align: right;\n",
       "    }\n",
       "</style>\n",
       "<table border=\"1\" class=\"dataframe\">\n",
       "  <thead>\n",
       "    <tr style=\"text-align: right;\">\n",
       "      <th></th>\n",
       "      <th>0</th>\n",
       "    </tr>\n",
       "  </thead>\n",
       "  <tbody>\n",
       "    <tr>\n",
       "      <th>PoolNet</th>\n",
       "      <td>1.646198</td>\n",
       "    </tr>\n",
       "    <tr>\n",
       "      <th>Spectral</th>\n",
       "      <td>0.975566</td>\n",
       "    </tr>\n",
       "    <tr>\n",
       "      <th>FineGrained</th>\n",
       "      <td>0.623878</td>\n",
       "    </tr>\n",
       "    <tr>\n",
       "      <th>KMeans</th>\n",
       "      <td>0.593128</td>\n",
       "    </tr>\n",
       "    <tr>\n",
       "      <th>SLIC</th>\n",
       "      <td>0.505854</td>\n",
       "    </tr>\n",
       "  </tbody>\n",
       "</table>\n",
       "</div>"
      ],
      "text/plain": [
       "                    0\n",
       "PoolNet      1.646198\n",
       "Spectral     0.975566\n",
       "FineGrained  0.623878\n",
       "KMeans       0.593128\n",
       "SLIC         0.505854"
      ]
     },
     "execution_count": 22,
     "metadata": {},
     "output_type": "execute_result"
    }
   ],
   "source": [
    "pd.DataFrame(Sorted_Quality_Score,index=[0]).T"
   ]
  },
  {
   "cell_type": "code",
   "execution_count": 23,
   "metadata": {},
   "outputs": [
    {
     "data": {
      "text/plain": [
       "<BarContainer object of 5 artists>"
      ]
     },
     "execution_count": 23,
     "metadata": {},
     "output_type": "execute_result"
    },
    {
     "data": {
      "image/png": "[encoded data removed]",
      "text/plain": [
       "<Figure size 432x288 with 1 Axes>"
      ]
     },
     "metadata": {
      "needs_background": "light"
     },
     "output_type": "display_data"
    }
   ],
   "source": [
    "plt.title('Quality Scores')\n",
    "plt.bar(Sorted_Quality_Score.keys(),Sorted_Quality_Score.values())"
   ]
  },
  {
   "cell_type": "code",
   "execution_count": 24,
   "metadata": {},
   "outputs": [],
   "source": [
    "#use this to load precomputed time for each method\n",
    "\n",
    "\n",
    "# times = {}\n",
    "# for method in methods:\n",
    "#     times[method] = joblib.load(f\"times/{method}_times.pkl\")\n",
    "# time = {method:times[method][d] for method in methods}\n",
    "# time"
   ]
  },
  {
   "cell_type": "code",
   "execution_count": 25,
   "metadata": {},
   "outputs": [],
   "source": [
    "T_max = max(time.values())\n",
    "T_min = min(time.values())\n",
    "Q_max = max(Quality_Score.values())"
   ]
  },
  {
   "cell_type": "code",
   "execution_count": 26,
   "metadata": {},
   "outputs": [],
   "source": [
    "def timemesure(time):\n",
    "    return np.log10((T_max-time+0.5)/(time-T_min+0.5))"
   ]
  },
  {
   "cell_type": "code",
   "execution_count": 27,
   "metadata": {},
   "outputs": [],
   "source": [
    "TimeScores = {}\n",
    "scores = {}\n",
    "for method in methods:\n",
    "    Q = Quality_Score[method]\n",
    "    TimeScores[method] = timemesure(time[method])\n",
    "    scores[method] = Q + (Q/Q_max)*timemesure(time[method])\n"
   ]
  },
  {
   "cell_type": "markdown",
   "metadata": {},
   "source": [
    "### time taken by each method "
   ]
  },
  {
   "cell_type": "code",
   "execution_count": 28,
   "metadata": {},
   "outputs": [
    {
     "data": {
      "text/html": [
       "<div>\n",
       "<style scoped>\n",
       "    .dataframe tbody tr th:only-of-type {\n",
       "        vertical-align: middle;\n",
       "    }\n",
       "\n",
       "    .dataframe tbody tr th {\n",
       "        vertical-align: top;\n",
       "    }\n",
       "\n",
       "    .dataframe thead th {\n",
       "        text-align: right;\n",
       "    }\n",
       "</style>\n",
       "<table border=\"1\" class=\"dataframe\">\n",
       "  <thead>\n",
       "    <tr style=\"text-align: right;\">\n",
       "      <th></th>\n",
       "      <th>0</th>\n",
       "    </tr>\n",
       "  </thead>\n",
       "  <tbody>\n",
       "    <tr>\n",
       "      <th>FineGrained</th>\n",
       "      <td>0.527565</td>\n",
       "    </tr>\n",
       "    <tr>\n",
       "      <th>Spectral</th>\n",
       "      <td>0.651579</td>\n",
       "    </tr>\n",
       "    <tr>\n",
       "      <th>PoolNet</th>\n",
       "      <td>2.380000</td>\n",
       "    </tr>\n",
       "    <tr>\n",
       "      <th>SLIC</th>\n",
       "      <td>6.238214</td>\n",
       "    </tr>\n",
       "    <tr>\n",
       "      <th>KMeans</th>\n",
       "      <td>109.766039</td>\n",
       "    </tr>\n",
       "  </tbody>\n",
       "</table>\n",
       "</div>"
      ],
      "text/plain": [
       "                      0\n",
       "FineGrained    0.527565\n",
       "Spectral       0.651579\n",
       "PoolNet        2.380000\n",
       "SLIC           6.238214\n",
       "KMeans       109.766039"
      ]
     },
     "execution_count": 28,
     "metadata": {},
     "output_type": "execute_result"
    }
   ],
   "source": [
    "pd.DataFrame({ i[0]:i[1] for i in sorted(time.items(),key=lambda x:x[1])},index=[0]).T"
   ]
  },
  {
   "cell_type": "code",
   "execution_count": 29,
   "metadata": {},
   "outputs": [
    {
     "data": {
      "text/plain": [
       "[<matplotlib.lines.Line2D at 0x7fe24d790490>]"
      ]
     },
     "execution_count": 29,
     "metadata": {},
     "output_type": "execute_result"
    },
    {
     "data": {
      "image/png": "[encoded data removed]",
      "text/plain": [
       "<Figure size 432x288 with 1 Axes>"
      ]
     },
     "metadata": {
      "needs_background": "light"
     },
     "output_type": "display_data"
    }
   ],
   "source": [
    "plt.title(\"Time taken by each method\")\n",
    "plt.plot(pd.DataFrame({ i[0]:i[1] for i in sorted(time.items(),key=lambda x:x[1])},index=[0]).T)"
   ]
  },
  {
   "cell_type": "markdown",
   "metadata": {},
   "source": [
    "### time measure for each method"
   ]
  },
  {
   "cell_type": "code",
   "execution_count": 30,
   "metadata": {},
   "outputs": [
    {
     "data": {
      "text/html": [
       "<div>\n",
       "<style scoped>\n",
       "    .dataframe tbody tr th:only-of-type {\n",
       "        vertical-align: middle;\n",
       "    }\n",
       "\n",
       "    .dataframe tbody tr th {\n",
       "        vertical-align: top;\n",
       "    }\n",
       "\n",
       "    .dataframe thead th {\n",
       "        text-align: right;\n",
       "    }\n",
       "</style>\n",
       "<table border=\"1\" class=\"dataframe\">\n",
       "  <thead>\n",
       "    <tr style=\"text-align: right;\">\n",
       "      <th></th>\n",
       "      <th>0</th>\n",
       "    </tr>\n",
       "  </thead>\n",
       "  <tbody>\n",
       "    <tr>\n",
       "      <th>FineGrained</th>\n",
       "      <td>2.341389</td>\n",
       "    </tr>\n",
       "    <tr>\n",
       "      <th>Spectral</th>\n",
       "      <td>2.244674</td>\n",
       "    </tr>\n",
       "    <tr>\n",
       "      <th>PoolNet</th>\n",
       "      <td>1.661448</td>\n",
       "    </tr>\n",
       "    <tr>\n",
       "      <th>SLIC</th>\n",
       "      <td>1.224012</td>\n",
       "    </tr>\n",
       "    <tr>\n",
       "      <th>KMeans</th>\n",
       "      <td>-2.341389</td>\n",
       "    </tr>\n",
       "  </tbody>\n",
       "</table>\n",
       "</div>"
      ],
      "text/plain": [
       "                    0\n",
       "FineGrained  2.341389\n",
       "Spectral     2.244674\n",
       "PoolNet      1.661448\n",
       "SLIC         1.224012\n",
       "KMeans      -2.341389"
      ]
     },
     "execution_count": 30,
     "metadata": {},
     "output_type": "execute_result"
    }
   ],
   "source": [
    "pd.DataFrame({ i[0]:i[1] for i in sorted(TimeScores.items(),key=lambda x:x[1],reverse=True)},index=[0]).T"
   ]
  },
  {
   "cell_type": "code",
   "execution_count": 31,
   "metadata": {},
   "outputs": [
    {
     "data": {
      "text/plain": [
       "[<matplotlib.lines.Line2D at 0x7fe26bc76250>]"
      ]
     },
     "execution_count": 31,
     "metadata": {},
     "output_type": "execute_result"
    },
    {
     "data": {
      "image/png": "[encoded data removed]",
      "text/plain": [
       "<Figure size 432x288 with 1 Axes>"
      ]
     },
     "metadata": {
      "needs_background": "light"
     },
     "output_type": "display_data"
    }
   ],
   "source": [
    "plt.title('Time measures for each method')\n",
    "plt.plot(pd.DataFrame({ i[0]:i[1] for i in sorted(TimeScores.items(),key=lambda x:x[1],reverse=True)},index=[0]).T)"
   ]
  },
  {
   "cell_type": "code",
   "execution_count": 32,
   "metadata": {},
   "outputs": [
    {
     "data": {
      "text/plain": [
       "{'PoolNet': 3.3076452492002426,\n",
       " 'Spectral': 2.305799170293861,\n",
       " 'FineGrained': 1.5112194009773046,\n",
       " 'SLIC': 0.881976061461873,\n",
       " 'KMeans': -0.25047851562230417}"
      ]
     },
     "execution_count": 32,
     "metadata": {},
     "output_type": "execute_result"
    }
   ],
   "source": [
    "Sorted_Scores = { i[0]:i[1] for i in sorted(scores.items(),key=lambda x:x[1],reverse=True)}\n",
    "Sorted_Scores"
   ]
  },
  {
   "cell_type": "code",
   "execution_count": 33,
   "metadata": {},
   "outputs": [
    {
     "data": {
      "text/plain": [
       "<BarContainer object of 5 artists>"
      ]
     },
     "execution_count": 33,
     "metadata": {},
     "output_type": "execute_result"
    },
    {
     "data": {
      "image/png": "[encoded data removed]",
      "text/plain": [
       "<Figure size 432x288 with 1 Axes>"
      ]
     },
     "metadata": {
      "needs_background": "light"
     },
     "output_type": "display_data"
    }
   ],
   "source": [
    "plt.title('Final Score')\n",
    "plt.bar(Sorted_Scores.keys(),Sorted_Scores.values())"
   ]
  },
  {
   "cell_type": "code",
   "execution_count": 34,
   "metadata": {},
   "outputs": [
    {
     "name": "stdout",
     "output_type": "stream",
     "text": [
      "The best method is: PoolNet\n"
     ]
    }
   ],
   "source": [
    "print(f\"The best method is: {list(Sorted_Scores.keys())[0]}\")"
   ]
  },
  {
   "cell_type": "code",
   "execution_count": 35,
   "metadata": {},
   "outputs": [
    {
     "name": "stdout",
     "output_type": "stream",
     "text": [
      "Methods in order of their preferences:\n",
      "\n",
      "PoolNet with score 3.3076452492002426\n",
      "Spectral with score 2.305799170293861\n",
      "FineGrained with score 1.5112194009773046\n",
      "SLIC with score 0.881976061461873\n",
      "KMeans with score -0.25047851562230417\n"
     ]
    }
   ],
   "source": [
    "print('Methods in order of their preferences:\\n')\n",
    "for i in Sorted_Scores:\n",
    "    print(f'{i} with score {Sorted_Scores[i]}')"
   ]
  }
 ],
 "metadata": {
  "interpreter": {
   "hash": "6a65904b868753e9b96e07e72c98b8fbd80ee0772a8c8114e7ac8901d54cf768"
  },
  "kernelspec": {
   "display_name": "Python 3.7.11 ('pythonlower')",
   "language": "python",
   "name": "python3"
  },
  "language_info": {
   "codemirror_mode": {
    "name": "ipython",
    "version": 3
   },
   "file_extension": ".py",
   "mimetype": "text/x-python",
   "name": "python",
   "nbconvert_exporter": "python",
   "pygments_lexer": "ipython3",
   "version": "3.7.11"
  },
  "orig_nbformat": 4
 },
 "nbformat": 4,
 "nbformat_minor": 2
}
